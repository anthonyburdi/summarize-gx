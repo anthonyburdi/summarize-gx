{
 "cells": [
  {
   "cell_type": "code",
   "execution_count": 1,
   "id": "d5862b45-e6d9-42d8-8fcd-79fbdc97ae2e",
   "metadata": {},
   "outputs": [],
   "source": [
    "import great_expectations as gx"
   ]
  },
  {
   "cell_type": "code",
   "execution_count": 2,
   "id": "9b5ae940-8452-4000-b439-381f51e3bfd5",
   "metadata": {},
   "outputs": [
    {
     "data": {
      "text/plain": [
       "'1.0.5'"
      ]
     },
     "execution_count": 2,
     "metadata": {},
     "output_type": "execute_result"
    }
   ],
   "source": [
    "gx.__version__"
   ]
  },
  {
   "cell_type": "code",
   "execution_count": 3,
   "id": "93453d05-79eb-4fe7-8d07-ec1c0f3d857d",
   "metadata": {},
   "outputs": [
    {
     "name": "stdout",
     "output_type": "stream",
     "text": [
      "<class 'great_expectations.data_context.data_context.file_data_context.FileDataContext'>\n"
     ]
    }
   ],
   "source": [
    "context = gx.get_context(mode=\"file\")\n",
    "print(type(context))"
   ]
  },
  {
   "cell_type": "code",
   "execution_count": 4,
   "id": "9334954f-e50b-429d-9aed-9c07de1b5711",
   "metadata": {},
   "outputs": [],
   "source": [
    "source_folder = \"./data/first_ten_trips_in_each_file/\"\n",
    "data_source_name = \"taxi_first_ten_trips\""
   ]
  },
  {
   "cell_type": "code",
   "execution_count": 5,
   "id": "32b29d2d-7068-406d-8b31-5c27168fbe5a",
   "metadata": {},
   "outputs": [],
   "source": [
    "data_source = context.data_sources.add_pandas_filesystem(\n",
    "    name=data_source_name, base_directory=source_folder\n",
    ")"
   ]
  },
  {
   "cell_type": "code",
   "execution_count": 6,
   "id": "e9048a16-53c6-4252-aeba-b1411ee4c15e",
   "metadata": {},
   "outputs": [],
   "source": [
    "asset_name = \"taxi_first_ten_trips_asset\""
   ]
  },
  {
   "cell_type": "code",
   "execution_count": 7,
   "id": "eee7fe75-eb0f-42a2-b422-14cc29fc4f72",
   "metadata": {},
   "outputs": [],
   "source": [
    "file_csv_asset = data_source.add_csv_asset(name=asset_name)"
   ]
  },
  {
   "cell_type": "code",
   "execution_count": 8,
   "id": "949b6cff-3483-4dac-a09a-526a21e1a5c6",
   "metadata": {},
   "outputs": [],
   "source": [
    "batch_definition_name = \"monthly_yellow_tripdata_sample\""
   ]
  },
  {
   "cell_type": "code",
   "execution_count": 13,
   "id": "72013af5-97e3-4457-97ca-ac947df8aacf",
   "metadata": {},
   "outputs": [],
   "source": [
    "batch_definition_regex = (\n",
    "    r\"yellow_tripdata_sample_(?P<year>\\d{4})-(?P<month>\\d{2})\\.csv\"\n",
    ")"
   ]
  },
  {
   "cell_type": "code",
   "execution_count": 20,
   "id": "b27960f4-cbd1-4ce7-8163-863701e3626c",
   "metadata": {},
   "outputs": [
    {
     "data": {
      "text/plain": [
       "[BatchDefinition(id=UUID('1218768a-c221-4e42-b142-af89a0b857ea'), name='monthly_yellow_tripdata_sample', partitioner=FileNamePartitionerYearly(regex=re.compile('yellow_tripdata_sample_(?P<year>\\\\d{4})-(?P<month>\\\\d{2})\\\\.csv'), sort_ascending=True, param_names=['year', 'month']))]"
      ]
     },
     "execution_count": 20,
     "metadata": {},
     "output_type": "execute_result"
    }
   ],
   "source": [
    "file_csv_asset.batch_definitions"
   ]
  },
  {
   "cell_type": "code",
   "execution_count": 17,
   "id": "1c3d96d4-8104-4e7a-9092-8247543086b8",
   "metadata": {},
   "outputs": [],
   "source": [
    "# file_csv_asset.delete_batch_definition(name=batch_definition_name)"
   ]
  },
  {
   "cell_type": "code",
   "execution_count": 18,
   "id": "f676b775-f799-47b6-94b5-ed30ad2b7e54",
   "metadata": {},
   "outputs": [],
   "source": [
    "batch_definition = file_csv_asset.add_batch_definition_monthly(\n",
    "    name=batch_definition_name, regex=batch_definition_regex\n",
    ")"
   ]
  },
  {
   "cell_type": "code",
   "execution_count": 19,
   "id": "433d0bfa-f123-4ec5-a849-07570bcffaf5",
   "metadata": {},
   "outputs": [
    {
     "data": {
      "application/vnd.jupyter.widget-view+json": {
       "model_id": "d3ffb82c2c5c4f24ad4988295d4f0c89",
       "version_major": 2,
       "version_minor": 0
      },
      "text/plain": [
       "Calculating Metrics:   0%|          | 0/1 [00:00<?, ?it/s]"
      ]
     },
     "metadata": {},
     "output_type": "display_data"
    },
    {
     "data": {
      "text/plain": [
       "   vendor_id      pickup_datetime     dropoff_datetime  passenger_count  \\\n",
       "0          1  2019-01-15 03:36:12  2019-01-15 03:42:19                1   \n",
       "1          1  2019-01-25 18:20:32  2019-01-25 18:26:55                1   \n",
       "2          1  2019-01-05 06:47:31  2019-01-05 06:52:19                1   \n",
       "3          1  2019-01-09 15:08:02  2019-01-09 15:20:17                1   \n",
       "4          1  2019-01-25 18:49:51  2019-01-25 18:56:44                1   \n",
       "\n",
       "   trip_distance  rate_code_id store_and_fwd_flag  pickup_location_id  \\\n",
       "0            1.0             1                  N                 230   \n",
       "1            0.8             1                  N                 112   \n",
       "2            1.1             1                  N                 107   \n",
       "3            2.5             1                  N                 143   \n",
       "4            0.8             1                  N                 246   \n",
       "\n",
       "   dropoff_location_id  payment_type  fare_amount  extra  mta_tax  tip_amount  \\\n",
       "0                   48             1          6.5    0.5      0.5        1.95   \n",
       "1                  112             1          6.0    1.0      0.5        1.55   \n",
       "2                    4             2          6.0    0.0      0.5        0.00   \n",
       "3                  158             1         11.0    0.0      0.5        3.00   \n",
       "4                   90             1          6.5    1.0      0.5        1.65   \n",
       "\n",
       "   tolls_amount  improvement_surcharge  total_amount  congestion_surcharge  \n",
       "0           0.0                    0.3          9.75                   NaN  \n",
       "1           0.0                    0.3          9.35                   0.0  \n",
       "2           0.0                    0.3          6.80                   NaN  \n",
       "3           0.0                    0.3         14.80                   NaN  \n",
       "4           0.0                    0.3          9.95                   0.0  "
      ]
     },
     "execution_count": 19,
     "metadata": {},
     "output_type": "execute_result"
    }
   ],
   "source": [
    "# Verify setup\n",
    "batch = batch_definition.get_batch(batch_parameters={\"year\": \"2019\", \"month\": \"01\"})\n",
    "batch.head()"
   ]
  },
  {
   "cell_type": "code",
   "execution_count": 21,
   "id": "9ae1fb49-23e6-4cca-83ce-749431bf8f94",
   "metadata": {},
   "outputs": [],
   "source": [
    "import great_expectations.expectations as gxe"
   ]
  },
  {
   "cell_type": "code",
   "execution_count": 24,
   "id": "5d7825d8-0885-493d-8e59-ddc365f5ed18",
   "metadata": {},
   "outputs": [],
   "source": [
    "between = gxe.ExpectColumnValuesToBeBetween(column=\"passenger_count\", min_value=0, max_value=6)"
   ]
  },
  {
   "cell_type": "code",
   "execution_count": 25,
   "id": "06dacc2c-829e-4569-bcae-772199673b86",
   "metadata": {},
   "outputs": [
    {
     "data": {
      "application/vnd.jupyter.widget-view+json": {
       "model_id": "fb971ba9df8d4a33b43a32a51cc2ada3",
       "version_major": 2,
       "version_minor": 0
      },
      "text/plain": [
       "Calculating Metrics:   0%|          | 0/10 [00:00<?, ?it/s]"
      ]
     },
     "metadata": {},
     "output_type": "display_data"
    },
    {
     "data": {
      "text/plain": [
       "{\n",
       "  \"success\": true,\n",
       "  \"result\": {\n",
       "    \"element_count\": 10,\n",
       "    \"unexpected_count\": 0,\n",
       "    \"unexpected_percent\": 0.0,\n",
       "    \"partial_unexpected_list\": [],\n",
       "    \"missing_count\": 0,\n",
       "    \"missing_percent\": 0.0,\n",
       "    \"unexpected_percent_total\": 0.0,\n",
       "    \"unexpected_percent_nonmissing\": 0.0,\n",
       "    \"partial_unexpected_counts\": [],\n",
       "    \"partial_unexpected_index_list\": []\n",
       "  },\n",
       "  \"meta\": {},\n",
       "  \"exception_info\": {\n",
       "    \"raised_exception\": false,\n",
       "    \"exception_traceback\": null,\n",
       "    \"exception_message\": null\n",
       "  }\n",
       "}"
      ]
     },
     "execution_count": 25,
     "metadata": {},
     "output_type": "execute_result"
    }
   ],
   "source": [
    "batch.validate(between)"
   ]
  },
  {
   "cell_type": "code",
   "execution_count": null,
   "id": "ac5686a7-2fef-4b31-9d91-e3084d0049b3",
   "metadata": {},
   "outputs": [],
   "source": []
  },
  {
   "cell_type": "code",
   "execution_count": null,
   "id": "3dc94eaf-eae3-4fef-b8ec-5482147be6ed",
   "metadata": {},
   "outputs": [],
   "source": []
  },
  {
   "cell_type": "code",
   "execution_count": null,
   "id": "c21b04fd-74f5-49aa-93db-4b4df12c8146",
   "metadata": {},
   "outputs": [],
   "source": []
  }
 ],
 "metadata": {
  "kernelspec": {
   "display_name": "Python 3 (ipykernel)",
   "language": "python",
   "name": "python3"
  },
  "language_info": {
   "codemirror_mode": {
    "name": "ipython",
    "version": 3
   },
   "file_extension": ".py",
   "mimetype": "text/x-python",
   "name": "python",
   "nbconvert_exporter": "python",
   "pygments_lexer": "ipython3",
   "version": "3.11.10"
  }
 },
 "nbformat": 4,
 "nbformat_minor": 5
}
